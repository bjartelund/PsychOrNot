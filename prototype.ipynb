{
 "cells": [
  {
   "cell_type": "code",
   "execution_count": 1,
   "metadata": {},
   "outputs": [],
   "source": [
    "import pandas as pd\n",
    "import numpy as np\n",
    "import tensorflow as tf\n"
   ]
  },
  {
   "cell_type": "code",
   "execution_count": 2,
   "metadata": {},
   "outputs": [],
   "source": [
    "aa=\"AGSTNQVILMFYWHPKREDC\" #The twenty amino acids, grouped somewhat by feature"
   ]
  },
  {
   "cell_type": "code",
   "execution_count": 3,
   "metadata": {},
   "outputs": [],
   "source": [
    "aapairs=np.zeros((20,20))\n"
   ]
  },
  {
   "cell_type": "code",
   "execution_count": null,
   "metadata": {},
   "outputs": [],
   "source": []
  },
  {
   "cell_type": "code",
   "execution_count": 4,
   "metadata": {},
   "outputs": [],
   "source": [
    "#Helper functions \n",
    "\n",
    "def seqpair_tokenize(seq):\n",
    "    #Takes a single-character protein sequence, returns a 20x20 ndarray with the frequencies of sequence neighbors \n",
    "    prev=\"\"\n",
    "    cur=\"\"\n",
    "    second=\"\"\n",
    "    aapairs=np.zeros((20,20))\n",
    "    wl=1/len(seq)\n",
    "    for c in seq:\n",
    "        try:\n",
    "            cur=aa.index(c)\n",
    "        except ValueError:\n",
    "            prev=\"\"\n",
    "        if prev:\n",
    "            aapairs[prev,cur]+=wl\n",
    "    \n",
    "        prev=cur\n",
    "    return aapairs\n",
    "def seqplusonepair_tokenize(seq):\n",
    "    #Takes a single-character protein sequence, returns a 20x20 ndarray with the frequencies of sequence neighbors \n",
    "    prev=\"\"\n",
    "    cur=\"\"\n",
    "\n",
    "    second=\"\"\n",
    "    third=\"\"\n",
    "    aapairs=np.zeros((20,20))\n",
    "    wl=1/len(seq)\n",
    "    for c in seq:\n",
    "        try:\n",
    "            cur=aa.index(c)\n",
    "        except ValueError:\n",
    "            prev=\"\"\n",
    "            third=\"\"\n",
    "        if third:\n",
    "            aapairs[third,cur]+=wl\n",
    "        third=second\n",
    "        second=cur\n",
    "    return aapairs\n",
    "def PsychOrNot(classification):\n",
    "    if classification == \"Thermo\":\n",
    "        return 1\n",
    "    else:\n",
    "        return 0\n",
    "            "
   ]
  },
  {
   "cell_type": "code",
   "execution_count": null,
   "metadata": {},
   "outputs": [],
   "source": []
  },
  {
   "cell_type": "code",
   "execution_count": 5,
   "metadata": {},
   "outputs": [],
   "source": [
    "#Dataset consists of sequences downloaded from PDB based on searches for Psychrophil* and Thermophil*\n",
    "dataset=pd.read_csv(\"dataset/database-pdb.csv\",names=(\"Classification\",\"Label\",\"Sequence\"))\n",
    "\n",
    "\n",
    "dataset[\"AApairs\"]=dataset[\"Sequence\"].map(seqpair_tokenize)\n",
    "dataset[\"codes\"]=dataset[\"Label\"].map(PsychOrNot)"
   ]
  },
  {
   "cell_type": "code",
   "execution_count": null,
   "metadata": {},
   "outputs": [],
   "source": []
  },
  {
   "cell_type": "code",
   "execution_count": 6,
   "metadata": {},
   "outputs": [
    {
     "data": {
      "text/html": [
       "<div>\n",
       "<style scoped>\n",
       "    .dataframe tbody tr th:only-of-type {\n",
       "        vertical-align: middle;\n",
       "    }\n",
       "\n",
       "    .dataframe tbody tr th {\n",
       "        vertical-align: top;\n",
       "    }\n",
       "\n",
       "    .dataframe thead th {\n",
       "        text-align: right;\n",
       "    }\n",
       "</style>\n",
       "<table border=\"1\" class=\"dataframe\">\n",
       "  <thead>\n",
       "    <tr style=\"text-align: right;\">\n",
       "      <th></th>\n",
       "      <th>Classification</th>\n",
       "      <th>Label</th>\n",
       "      <th>Sequence</th>\n",
       "      <th>AApairs</th>\n",
       "      <th>codes</th>\n",
       "    </tr>\n",
       "  </thead>\n",
       "  <tbody>\n",
       "    <tr>\n",
       "      <th>294</th>\n",
       "      <td>1</td>\n",
       "      <td>Thermo</td>\n",
       "      <td>QSGPVIRVAGDSTAVGEGGRWMKEMVEAWGKKTGTRVEYIDSPADT...</td>\n",
       "      <td>[[0.0, 0.0, 0.0, 0.0, 0.0, 0.0, 0.0, 0.0, 0.0,...</td>\n",
       "      <td>1</td>\n",
       "    </tr>\n",
       "    <tr>\n",
       "      <th>378</th>\n",
       "      <td>38</td>\n",
       "      <td>Thermo</td>\n",
       "      <td>MKGILGVKVGMTRIFRDDRAVPVTVILAGPCPVVQRRTPEKDGYTA...</td>\n",
       "      <td>[[0.0, 0.0, 0.0, 0.0, 0.0, 0.0, 0.0, 0.0, 0.0,...</td>\n",
       "      <td>1</td>\n",
       "    </tr>\n",
       "    <tr>\n",
       "      <th>403</th>\n",
       "      <td>1</td>\n",
       "      <td>Thermo</td>\n",
       "      <td>VPYSSAQ</td>\n",
       "      <td>[[0.0, 0.0, 0.0, 0.0, 0.0, 0.0, 0.0, 0.0, 0.0,...</td>\n",
       "      <td>1</td>\n",
       "    </tr>\n",
       "    <tr>\n",
       "      <th>358</th>\n",
       "      <td>47</td>\n",
       "      <td>Thermo</td>\n",
       "      <td>RHLKSGRKLNRHSSHRLALYRNQAKSLLTHGRITTTVPKAKELRGF...</td>\n",
       "      <td>[[0.0, 0.0, 0.0, 0.0, 0.0, 0.0, 0.0, 0.0, 0.0,...</td>\n",
       "      <td>1</td>\n",
       "    </tr>\n",
       "    <tr>\n",
       "      <th>356</th>\n",
       "      <td>52</td>\n",
       "      <td>Thermo</td>\n",
       "      <td>MEAKAIARYVRISPRKVRLVVDLIRGKSLEEARNILRYTNKRGAYF...</td>\n",
       "      <td>[[0.0, 0.0, 0.0, 0.0, 0.0, 0.0, 0.0, 0.0, 0.0,...</td>\n",
       "      <td>1</td>\n",
       "    </tr>\n",
       "    <tr>\n",
       "      <th>...</th>\n",
       "      <td>...</td>\n",
       "      <td>...</td>\n",
       "      <td>...</td>\n",
       "      <td>...</td>\n",
       "      <td>...</td>\n",
       "    </tr>\n",
       "    <tr>\n",
       "      <th>246</th>\n",
       "      <td>1</td>\n",
       "      <td>Psychro</td>\n",
       "      <td>MKLGVCYYPEHWPKSRWVEDAQHMRRIGIQYVRVGEFSWSTIEPTP...</td>\n",
       "      <td>[[0.0, 0.0, 0.0, 0.0, 0.0, 0.0, 0.0, 0.0, 0.0,...</td>\n",
       "      <td>0</td>\n",
       "    </tr>\n",
       "    <tr>\n",
       "      <th>247</th>\n",
       "      <td>1</td>\n",
       "      <td>Psychro</td>\n",
       "      <td>AFELPSLPYAIDALEPHISKETLEFHHGKHHNTYVVKLNGLIPGTK...</td>\n",
       "      <td>[[0.0, 0.0, 0.0, 0.0, 0.0, 0.0, 0.0, 0.0, 0.0,...</td>\n",
       "      <td>0</td>\n",
       "    </tr>\n",
       "    <tr>\n",
       "      <th>248</th>\n",
       "      <td>1</td>\n",
       "      <td>Psychro</td>\n",
       "      <td>MRGSHHHHHHGMASMTGGQQMGRDLYDDDDKDHPFTMTSLFAAIQP...</td>\n",
       "      <td>[[0.0, 0.0, 0.0, 0.0, 0.0, 0.0, 0.0, 0.0, 0.0,...</td>\n",
       "      <td>0</td>\n",
       "    </tr>\n",
       "    <tr>\n",
       "      <th>249</th>\n",
       "      <td>1</td>\n",
       "      <td>Psychro</td>\n",
       "      <td>MGSSHHHHHHSSGLVPRGSHMILVTGALGQIGTELVLALQEKYGND...</td>\n",
       "      <td>[[0.0, 0.0, 0.0, 0.0, 0.0, 0.0, 0.0, 0.0, 0.0,...</td>\n",
       "      <td>0</td>\n",
       "    </tr>\n",
       "    <tr>\n",
       "      <th>250</th>\n",
       "      <td>1</td>\n",
       "      <td>Psychro</td>\n",
       "      <td>MGSSHHHHHHSSGLVPRGSMRIGQYQLRNRLIAAPMAGITDRPFRT...</td>\n",
       "      <td>[[0.0, 0.0, 0.0, 0.0, 0.0, 0.0, 0.0, 0.0, 0.0,...</td>\n",
       "      <td>0</td>\n",
       "    </tr>\n",
       "  </tbody>\n",
       "</table>\n",
       "<p>502 rows × 5 columns</p>\n",
       "</div>"
      ],
      "text/plain": [
       "     Classification    Label  \\\n",
       "294               1   Thermo   \n",
       "378              38   Thermo   \n",
       "403               1   Thermo   \n",
       "358              47   Thermo   \n",
       "356              52   Thermo   \n",
       "..              ...      ...   \n",
       "246               1  Psychro   \n",
       "247               1  Psychro   \n",
       "248               1  Psychro   \n",
       "249               1  Psychro   \n",
       "250               1  Psychro   \n",
       "\n",
       "                                              Sequence  \\\n",
       "294  QSGPVIRVAGDSTAVGEGGRWMKEMVEAWGKKTGTRVEYIDSPADT...   \n",
       "378  MKGILGVKVGMTRIFRDDRAVPVTVILAGPCPVVQRRTPEKDGYTA...   \n",
       "403                                            VPYSSAQ   \n",
       "358  RHLKSGRKLNRHSSHRLALYRNQAKSLLTHGRITTTVPKAKELRGF...   \n",
       "356  MEAKAIARYVRISPRKVRLVVDLIRGKSLEEARNILRYTNKRGAYF...   \n",
       "..                                                 ...   \n",
       "246  MKLGVCYYPEHWPKSRWVEDAQHMRRIGIQYVRVGEFSWSTIEPTP...   \n",
       "247  AFELPSLPYAIDALEPHISKETLEFHHGKHHNTYVVKLNGLIPGTK...   \n",
       "248  MRGSHHHHHHGMASMTGGQQMGRDLYDDDDKDHPFTMTSLFAAIQP...   \n",
       "249  MGSSHHHHHHSSGLVPRGSHMILVTGALGQIGTELVLALQEKYGND...   \n",
       "250  MGSSHHHHHHSSGLVPRGSMRIGQYQLRNRLIAAPMAGITDRPFRT...   \n",
       "\n",
       "                                               AApairs  codes  \n",
       "294  [[0.0, 0.0, 0.0, 0.0, 0.0, 0.0, 0.0, 0.0, 0.0,...      1  \n",
       "378  [[0.0, 0.0, 0.0, 0.0, 0.0, 0.0, 0.0, 0.0, 0.0,...      1  \n",
       "403  [[0.0, 0.0, 0.0, 0.0, 0.0, 0.0, 0.0, 0.0, 0.0,...      1  \n",
       "358  [[0.0, 0.0, 0.0, 0.0, 0.0, 0.0, 0.0, 0.0, 0.0,...      1  \n",
       "356  [[0.0, 0.0, 0.0, 0.0, 0.0, 0.0, 0.0, 0.0, 0.0,...      1  \n",
       "..                                                 ...    ...  \n",
       "246  [[0.0, 0.0, 0.0, 0.0, 0.0, 0.0, 0.0, 0.0, 0.0,...      0  \n",
       "247  [[0.0, 0.0, 0.0, 0.0, 0.0, 0.0, 0.0, 0.0, 0.0,...      0  \n",
       "248  [[0.0, 0.0, 0.0, 0.0, 0.0, 0.0, 0.0, 0.0, 0.0,...      0  \n",
       "249  [[0.0, 0.0, 0.0, 0.0, 0.0, 0.0, 0.0, 0.0, 0.0,...      0  \n",
       "250  [[0.0, 0.0, 0.0, 0.0, 0.0, 0.0, 0.0, 0.0, 0.0,...      0  \n",
       "\n",
       "[502 rows x 5 columns]"
      ]
     },
     "execution_count": 6,
     "metadata": {},
     "output_type": "execute_result"
    }
   ],
   "source": [
    "dataset=pd.concat((dataset.loc[dataset[\"Label\"] == \"Thermo\"].sample(len(dataset.loc[dataset[\"Label\"] == \"Psychro\"])),dataset.loc[dataset[\"Label\"] == \"Psychro\"]))\n",
    "dataset"
   ]
  },
  {
   "cell_type": "code",
   "execution_count": 7,
   "metadata": {},
   "outputs": [],
   "source": [
    "#Need to split the dataset into train,test and validation\n",
    "from sklearn.model_selection import train_test_split\n",
    "\n",
    "x, x_test, y, y_test = train_test_split(dataset[\"AApairs\"],dataset[\"codes\"],test_size=0.2,train_size=0.8)\n",
    "x_train, x_cv, y_train, y_cv = train_test_split(x,y,test_size = 0.5,train_size =0.5)"
   ]
  },
  {
   "cell_type": "code",
   "execution_count": 8,
   "metadata": {},
   "outputs": [
    {
     "data": {
      "text/plain": [
       "<TensorSliceDataset shapes: ((401, 20, 20), (401,)), types: (tf.float64, tf.int32)>"
      ]
     },
     "execution_count": 8,
     "metadata": {},
     "output_type": "execute_result"
    }
   ],
   "source": [
    "train_dataset = tf.data.Dataset.from_tensor_slices((np.split(x,1),np.split(y,1)))\n",
    "test_dataset = tf.data.Dataset.from_tensor_slices((np.split(x_test,1),np.split(y_test,1)))\n",
    "validate_dataset = tf.data.Dataset.from_tensor_slices((np.split(x_cv,1),np.split(y_cv,1)))\n",
    "train_dataset"
   ]
  },
  {
   "cell_type": "code",
   "execution_count": null,
   "metadata": {},
   "outputs": [],
   "source": []
  },
  {
   "cell_type": "code",
   "execution_count": 9,
   "metadata": {},
   "outputs": [],
   "source": [
    "#tf.data.experimental.save(validate_dataset,\"validate.tf\")\n",
    "#tf.data.experimental.save(train_dataset,\"train.tf\")\n",
    "#tf.data.experimental.save(test_dataset,\"test.tf\")"
   ]
  },
  {
   "cell_type": "code",
   "execution_count": 10,
   "metadata": {},
   "outputs": [],
   "source": [
    "BATCH_SIZE = 64\n",
    "SHUFFLE_BUFFER_SIZE = 100\n",
    "train_dataset = train_dataset.shuffle(SHUFFLE_BUFFER_SIZE)\n",
    "#test_dataset = test_dataset.batch(BATCH_SIZE)\n"
   ]
  },
  {
   "cell_type": "code",
   "execution_count": 11,
   "metadata": {},
   "outputs": [],
   "source": [
    "model = tf.keras.Sequential([\n",
    "    tf.keras.layers.Flatten(input_shape=(20, 20)),\n",
    "    tf.keras.layers.Dense(64),\n",
    "    tf.keras.layers.Activation('relu'),\n",
    "    tf.keras.layers.Dense(2)\n",
    "])\n",
    "\n",
    "model.compile(optimizer=tf.keras.optimizers.RMSprop(),\n",
    "              loss=tf.keras.losses.SparseCategoricalCrossentropy(from_logits=True),\n",
    "              metrics=['sparse_categorical_accuracy'])\n",
    "#opt = tf.keras.optimizers.Adam(learning_rate=0.01)\n",
    "#model.compile(loss='categorical_crossentropy', optimizer=opt)"
   ]
  },
  {
   "cell_type": "code",
   "execution_count": null,
   "metadata": {},
   "outputs": [],
   "source": []
  },
  {
   "cell_type": "code",
   "execution_count": 12,
   "metadata": {},
   "outputs": [
    {
     "name": "stdout",
     "output_type": "stream",
     "text": [
      "Epoch 1/200\n",
      "1/1 [==============================] - 1s 620ms/step - loss: 0.6927 - sparse_categorical_accuracy: 0.4988\n",
      "Epoch 2/200\n",
      "1/1 [==============================] - 0s 10ms/step - loss: 0.6900 - sparse_categorical_accuracy: 0.5262\n",
      "Epoch 3/200\n",
      "1/1 [==============================] - 0s 7ms/step - loss: 0.6879 - sparse_categorical_accuracy: 0.5736\n",
      "Epoch 4/200\n",
      "1/1 [==============================] - 0s 8ms/step - loss: 0.6859 - sparse_categorical_accuracy: 0.5985\n",
      "Epoch 5/200\n",
      "1/1 [==============================] - 0s 11ms/step - loss: 0.6838 - sparse_categorical_accuracy: 0.6484\n",
      "Epoch 6/200\n",
      "1/1 [==============================] - 0s 5ms/step - loss: 0.6816 - sparse_categorical_accuracy: 0.6658\n",
      "Epoch 7/200\n",
      "1/1 [==============================] - 0s 14ms/step - loss: 0.6796 - sparse_categorical_accuracy: 0.7007\n",
      "Epoch 8/200\n",
      "1/1 [==============================] - 0s 11ms/step - loss: 0.6776 - sparse_categorical_accuracy: 0.6958\n",
      "Epoch 9/200\n",
      "1/1 [==============================] - 0s 13ms/step - loss: 0.6755 - sparse_categorical_accuracy: 0.7232\n",
      "Epoch 10/200\n",
      "1/1 [==============================] - 0s 11ms/step - loss: 0.6734 - sparse_categorical_accuracy: 0.7182\n",
      "Epoch 11/200\n",
      "1/1 [==============================] - 0s 11ms/step - loss: 0.6713 - sparse_categorical_accuracy: 0.7581\n",
      "Epoch 12/200\n",
      "1/1 [==============================] - 0s 11ms/step - loss: 0.6692 - sparse_categorical_accuracy: 0.7456\n",
      "Epoch 13/200\n",
      "1/1 [==============================] - 0s 11ms/step - loss: 0.6672 - sparse_categorical_accuracy: 0.7781\n",
      "Epoch 14/200\n",
      "1/1 [==============================] - 0s 6ms/step - loss: 0.6653 - sparse_categorical_accuracy: 0.8030\n",
      "Epoch 15/200\n",
      "1/1 [==============================] - 0s 6ms/step - loss: 0.6633 - sparse_categorical_accuracy: 0.8254\n",
      "Epoch 16/200\n",
      "1/1 [==============================] - 0s 13ms/step - loss: 0.6613 - sparse_categorical_accuracy: 0.8204\n",
      "Epoch 17/200\n",
      "1/1 [==============================] - 0s 10ms/step - loss: 0.6594 - sparse_categorical_accuracy: 0.8404\n",
      "Epoch 18/200\n",
      "1/1 [==============================] - 0s 8ms/step - loss: 0.6574 - sparse_categorical_accuracy: 0.8379\n",
      "Epoch 19/200\n",
      "1/1 [==============================] - 0s 6ms/step - loss: 0.6554 - sparse_categorical_accuracy: 0.8404\n",
      "Epoch 20/200\n",
      "1/1 [==============================] - ETA: 0s - loss: 0.6535 - sparse_categorical_accuracy: 0.837 - 0s 13ms/step - loss: 0.6535 - sparse_categorical_accuracy: 0.8379\n",
      "Epoch 21/200\n",
      "1/1 [==============================] - 0s 13ms/step - loss: 0.6515 - sparse_categorical_accuracy: 0.8504\n",
      "Epoch 22/200\n",
      "1/1 [==============================] - 0s 9ms/step - loss: 0.6495 - sparse_categorical_accuracy: 0.8429\n",
      "Epoch 23/200\n",
      "1/1 [==============================] - 0s 10ms/step - loss: 0.6476 - sparse_categorical_accuracy: 0.8628\n",
      "Epoch 24/200\n",
      "1/1 [==============================] - 0s 9ms/step - loss: 0.6456 - sparse_categorical_accuracy: 0.8603\n",
      "Epoch 25/200\n",
      "1/1 [==============================] - 0s 16ms/step - loss: 0.6436 - sparse_categorical_accuracy: 0.8628\n",
      "Epoch 26/200\n",
      "1/1 [==============================] - 0s 13ms/step - loss: 0.6417 - sparse_categorical_accuracy: 0.8653\n",
      "Epoch 27/200\n",
      "1/1 [==============================] - 0s 15ms/step - loss: 0.6397 - sparse_categorical_accuracy: 0.8828\n",
      "Epoch 28/200\n",
      "1/1 [==============================] - 0s 7ms/step - loss: 0.6377 - sparse_categorical_accuracy: 0.8653\n",
      "Epoch 29/200\n",
      "1/1 [==============================] - 0s 13ms/step - loss: 0.6357 - sparse_categorical_accuracy: 0.8953\n",
      "Epoch 30/200\n",
      "1/1 [==============================] - 0s 10ms/step - loss: 0.6338 - sparse_categorical_accuracy: 0.8603\n",
      "Epoch 31/200\n",
      "1/1 [==============================] - 0s 10ms/step - loss: 0.6318 - sparse_categorical_accuracy: 0.8953\n",
      "Epoch 32/200\n",
      "1/1 [==============================] - 0s 12ms/step - loss: 0.6298 - sparse_categorical_accuracy: 0.8678\n",
      "Epoch 33/200\n",
      "1/1 [==============================] - 0s 15ms/step - loss: 0.6278 - sparse_categorical_accuracy: 0.8953\n",
      "Epoch 34/200\n",
      "1/1 [==============================] - 0s 7ms/step - loss: 0.6257 - sparse_categorical_accuracy: 0.8928\n",
      "Epoch 35/200\n",
      "1/1 [==============================] - 0s 10ms/step - loss: 0.6236 - sparse_categorical_accuracy: 0.8953\n",
      "Epoch 36/200\n",
      "1/1 [==============================] - 0s 11ms/step - loss: 0.6215 - sparse_categorical_accuracy: 0.8978\n",
      "Epoch 37/200\n",
      "1/1 [==============================] - 0s 9ms/step - loss: 0.6193 - sparse_categorical_accuracy: 0.8953\n",
      "Epoch 38/200\n",
      "1/1 [==============================] - 0s 11ms/step - loss: 0.6172 - sparse_categorical_accuracy: 0.8953\n",
      "Epoch 39/200\n",
      "1/1 [==============================] - 0s 11ms/step - loss: 0.6151 - sparse_categorical_accuracy: 0.8928\n",
      "Epoch 40/200\n",
      "1/1 [==============================] - 0s 9ms/step - loss: 0.6130 - sparse_categorical_accuracy: 0.8953\n",
      "Epoch 41/200\n",
      "1/1 [==============================] - 0s 8ms/step - loss: 0.6109 - sparse_categorical_accuracy: 0.8928\n",
      "Epoch 42/200\n",
      "1/1 [==============================] - 0s 11ms/step - loss: 0.6088 - sparse_categorical_accuracy: 0.8953\n",
      "Epoch 43/200\n",
      "1/1 [==============================] - 0s 18ms/step - loss: 0.6067 - sparse_categorical_accuracy: 0.8903\n",
      "Epoch 44/200\n",
      "1/1 [==============================] - 0s 12ms/step - loss: 0.6046 - sparse_categorical_accuracy: 0.8978\n",
      "Epoch 45/200\n",
      "1/1 [==============================] - 0s 7ms/step - loss: 0.6024 - sparse_categorical_accuracy: 0.8928\n",
      "Epoch 46/200\n",
      "1/1 [==============================] - 0s 10ms/step - loss: 0.6003 - sparse_categorical_accuracy: 0.9002\n",
      "Epoch 47/200\n",
      "1/1 [==============================] - 0s 7ms/step - loss: 0.5981 - sparse_categorical_accuracy: 0.8928\n",
      "Epoch 48/200\n",
      "1/1 [==============================] - 0s 9ms/step - loss: 0.5960 - sparse_categorical_accuracy: 0.9002\n",
      "Epoch 49/200\n",
      "1/1 [==============================] - 0s 7ms/step - loss: 0.5938 - sparse_categorical_accuracy: 0.9002\n",
      "Epoch 50/200\n",
      "1/1 [==============================] - 0s 7ms/step - loss: 0.5917 - sparse_categorical_accuracy: 0.8978\n",
      "Epoch 51/200\n",
      "1/1 [==============================] - 0s 15ms/step - loss: 0.5895 - sparse_categorical_accuracy: 0.9002\n",
      "Epoch 52/200\n",
      "1/1 [==============================] - 0s 13ms/step - loss: 0.5873 - sparse_categorical_accuracy: 0.8953\n",
      "Epoch 53/200\n",
      "1/1 [==============================] - 0s 11ms/step - loss: 0.5851 - sparse_categorical_accuracy: 0.8978\n",
      "Epoch 54/200\n",
      "1/1 [==============================] - 0s 12ms/step - loss: 0.5830 - sparse_categorical_accuracy: 0.8928\n",
      "Epoch 55/200\n",
      "1/1 [==============================] - 0s 11ms/step - loss: 0.5808 - sparse_categorical_accuracy: 0.8978\n",
      "Epoch 56/200\n",
      "1/1 [==============================] - 0s 8ms/step - loss: 0.5785 - sparse_categorical_accuracy: 0.8903\n",
      "Epoch 57/200\n",
      "1/1 [==============================] - 0s 12ms/step - loss: 0.5763 - sparse_categorical_accuracy: 0.8978\n",
      "Epoch 58/200\n",
      "1/1 [==============================] - 0s 15ms/step - loss: 0.5740 - sparse_categorical_accuracy: 0.8903\n",
      "Epoch 59/200\n",
      "1/1 [==============================] - 0s 7ms/step - loss: 0.5718 - sparse_categorical_accuracy: 0.8978\n",
      "Epoch 60/200\n",
      "1/1 [==============================] - 0s 11ms/step - loss: 0.5695 - sparse_categorical_accuracy: 0.8903\n",
      "Epoch 61/200\n",
      "1/1 [==============================] - 0s 9ms/step - loss: 0.5672 - sparse_categorical_accuracy: 0.9002\n",
      "Epoch 62/200\n",
      "1/1 [==============================] - ETA: 0s - loss: 0.5650 - sparse_categorical_accuracy: 0.890 - 0s 11ms/step - loss: 0.5650 - sparse_categorical_accuracy: 0.8903\n",
      "Epoch 63/200\n",
      "1/1 [==============================] - 0s 7ms/step - loss: 0.5627 - sparse_categorical_accuracy: 0.9002\n",
      "Epoch 64/200\n",
      "1/1 [==============================] - 0s 8ms/step - loss: 0.5603 - sparse_categorical_accuracy: 0.8978\n",
      "Epoch 65/200\n",
      "1/1 [==============================] - 0s 7ms/step - loss: 0.5580 - sparse_categorical_accuracy: 0.9002\n",
      "Epoch 66/200\n",
      "1/1 [==============================] - 0s 6ms/step - loss: 0.5557 - sparse_categorical_accuracy: 0.9002\n",
      "Epoch 67/200\n",
      "1/1 [==============================] - 0s 12ms/step - loss: 0.5534 - sparse_categorical_accuracy: 0.9027\n",
      "Epoch 68/200\n",
      "1/1 [==============================] - 0s 9ms/step - loss: 0.5511 - sparse_categorical_accuracy: 0.8978\n",
      "Epoch 69/200\n"
     ]
    },
    {
     "name": "stdout",
     "output_type": "stream",
     "text": [
      "1/1 [==============================] - 0s 8ms/step - loss: 0.5488 - sparse_categorical_accuracy: 0.9002\n",
      "Epoch 70/200\n",
      "1/1 [==============================] - 0s 8ms/step - loss: 0.5464 - sparse_categorical_accuracy: 0.9002\n",
      "Epoch 71/200\n",
      "1/1 [==============================] - 0s 8ms/step - loss: 0.5441 - sparse_categorical_accuracy: 0.9027\n",
      "Epoch 72/200\n",
      "1/1 [==============================] - 0s 9ms/step - loss: 0.5418 - sparse_categorical_accuracy: 0.9002\n",
      "Epoch 73/200\n",
      "1/1 [==============================] - 0s 8ms/step - loss: 0.5395 - sparse_categorical_accuracy: 0.9027\n",
      "Epoch 74/200\n",
      "1/1 [==============================] - 0s 10ms/step - loss: 0.5372 - sparse_categorical_accuracy: 0.8978\n",
      "Epoch 75/200\n",
      "1/1 [==============================] - 0s 11ms/step - loss: 0.5349 - sparse_categorical_accuracy: 0.9027\n",
      "Epoch 76/200\n",
      "1/1 [==============================] - 0s 7ms/step - loss: 0.5326 - sparse_categorical_accuracy: 0.8978\n",
      "Epoch 77/200\n",
      "1/1 [==============================] - 0s 12ms/step - loss: 0.5303 - sparse_categorical_accuracy: 0.9027\n",
      "Epoch 78/200\n",
      "1/1 [==============================] - 0s 12ms/step - loss: 0.5281 - sparse_categorical_accuracy: 0.8978\n",
      "Epoch 79/200\n",
      "1/1 [==============================] - 0s 12ms/step - loss: 0.5258 - sparse_categorical_accuracy: 0.9027\n",
      "Epoch 80/200\n",
      "1/1 [==============================] - 0s 14ms/step - loss: 0.5235 - sparse_categorical_accuracy: 0.8978\n",
      "Epoch 81/200\n",
      "1/1 [==============================] - ETA: 0s - loss: 0.5212 - sparse_categorical_accuracy: 0.902 - 0s 9ms/step - loss: 0.5212 - sparse_categorical_accuracy: 0.9027\n",
      "Epoch 82/200\n",
      "1/1 [==============================] - 0s 8ms/step - loss: 0.5189 - sparse_categorical_accuracy: 0.8978\n",
      "Epoch 83/200\n",
      "1/1 [==============================] - 0s 10ms/step - loss: 0.5166 - sparse_categorical_accuracy: 0.9052\n",
      "Epoch 84/200\n",
      "1/1 [==============================] - 0s 7ms/step - loss: 0.5143 - sparse_categorical_accuracy: 0.8978\n",
      "Epoch 85/200\n",
      "1/1 [==============================] - ETA: 0s - loss: 0.5120 - sparse_categorical_accuracy: 0.905 - 0s 11ms/step - loss: 0.5120 - sparse_categorical_accuracy: 0.9052\n",
      "Epoch 86/200\n",
      "1/1 [==============================] - 0s 7ms/step - loss: 0.5097 - sparse_categorical_accuracy: 0.8978\n",
      "Epoch 87/200\n",
      "1/1 [==============================] - 0s 12ms/step - loss: 0.5074 - sparse_categorical_accuracy: 0.9052\n",
      "Epoch 88/200\n",
      "1/1 [==============================] - 0s 16ms/step - loss: 0.5052 - sparse_categorical_accuracy: 0.8978\n",
      "Epoch 89/200\n",
      "1/1 [==============================] - 0s 9ms/step - loss: 0.5029 - sparse_categorical_accuracy: 0.9052\n",
      "Epoch 90/200\n",
      "1/1 [==============================] - 0s 9ms/step - loss: 0.5006 - sparse_categorical_accuracy: 0.8978\n",
      "Epoch 91/200\n",
      "1/1 [==============================] - 0s 10ms/step - loss: 0.4984 - sparse_categorical_accuracy: 0.9052\n",
      "Epoch 92/200\n",
      "1/1 [==============================] - 0s 12ms/step - loss: 0.4961 - sparse_categorical_accuracy: 0.8978\n",
      "Epoch 93/200\n",
      "1/1 [==============================] - 0s 11ms/step - loss: 0.4939 - sparse_categorical_accuracy: 0.9052\n",
      "Epoch 94/200\n",
      "1/1 [==============================] - 0s 11ms/step - loss: 0.4917 - sparse_categorical_accuracy: 0.8978\n",
      "Epoch 95/200\n",
      "1/1 [==============================] - 0s 8ms/step - loss: 0.4894 - sparse_categorical_accuracy: 0.9052\n",
      "Epoch 96/200\n",
      "1/1 [==============================] - 0s 16ms/step - loss: 0.4872 - sparse_categorical_accuracy: 0.8978\n",
      "Epoch 97/200\n",
      "1/1 [==============================] - 0s 14ms/step - loss: 0.4850 - sparse_categorical_accuracy: 0.9102\n",
      "Epoch 98/200\n",
      "1/1 [==============================] - 0s 13ms/step - loss: 0.4827 - sparse_categorical_accuracy: 0.8978\n",
      "Epoch 99/200\n",
      "1/1 [==============================] - 0s 13ms/step - loss: 0.4805 - sparse_categorical_accuracy: 0.9102\n",
      "Epoch 100/200\n",
      "1/1 [==============================] - 0s 13ms/step - loss: 0.4783 - sparse_categorical_accuracy: 0.8978\n",
      "Epoch 101/200\n",
      "1/1 [==============================] - 0s 15ms/step - loss: 0.4761 - sparse_categorical_accuracy: 0.9102\n",
      "Epoch 102/200\n",
      "1/1 [==============================] - 0s 14ms/step - loss: 0.4739 - sparse_categorical_accuracy: 0.9002\n",
      "Epoch 103/200\n",
      "1/1 [==============================] - 0s 13ms/step - loss: 0.4717 - sparse_categorical_accuracy: 0.9127\n",
      "Epoch 104/200\n",
      "1/1 [==============================] - 0s 9ms/step - loss: 0.4695 - sparse_categorical_accuracy: 0.9027\n",
      "Epoch 105/200\n",
      "1/1 [==============================] - 0s 10ms/step - loss: 0.4674 - sparse_categorical_accuracy: 0.9127\n",
      "Epoch 106/200\n",
      "1/1 [==============================] - 0s 9ms/step - loss: 0.4652 - sparse_categorical_accuracy: 0.9052\n",
      "Epoch 107/200\n",
      "1/1 [==============================] - 0s 7ms/step - loss: 0.4630 - sparse_categorical_accuracy: 0.9127\n",
      "Epoch 108/200\n",
      "1/1 [==============================] - 0s 9ms/step - loss: 0.4609 - sparse_categorical_accuracy: 0.9077\n",
      "Epoch 109/200\n",
      "1/1 [==============================] - 0s 7ms/step - loss: 0.4587 - sparse_categorical_accuracy: 0.9127\n",
      "Epoch 110/200\n",
      "1/1 [==============================] - 0s 8ms/step - loss: 0.4566 - sparse_categorical_accuracy: 0.9077\n",
      "Epoch 111/200\n",
      "1/1 [==============================] - 0s 8ms/step - loss: 0.4544 - sparse_categorical_accuracy: 0.9127\n",
      "Epoch 112/200\n",
      "1/1 [==============================] - 0s 9ms/step - loss: 0.4523 - sparse_categorical_accuracy: 0.9077\n",
      "Epoch 113/200\n",
      "1/1 [==============================] - 0s 13ms/step - loss: 0.4502 - sparse_categorical_accuracy: 0.9127\n",
      "Epoch 114/200\n",
      "1/1 [==============================] - 0s 8ms/step - loss: 0.4481 - sparse_categorical_accuracy: 0.9077\n",
      "Epoch 115/200\n",
      "1/1 [==============================] - 0s 8ms/step - loss: 0.4460 - sparse_categorical_accuracy: 0.9127\n",
      "Epoch 116/200\n",
      "1/1 [==============================] - 0s 5ms/step - loss: 0.4439 - sparse_categorical_accuracy: 0.9077\n",
      "Epoch 117/200\n",
      "1/1 [==============================] - 0s 7ms/step - loss: 0.4418 - sparse_categorical_accuracy: 0.9127\n",
      "Epoch 118/200\n",
      "1/1 [==============================] - 0s 12ms/step - loss: 0.4397 - sparse_categorical_accuracy: 0.9077\n",
      "Epoch 119/200\n",
      "1/1 [==============================] - 0s 7ms/step - loss: 0.4376 - sparse_categorical_accuracy: 0.9127\n",
      "Epoch 120/200\n",
      "1/1 [==============================] - 0s 11ms/step - loss: 0.4355 - sparse_categorical_accuracy: 0.9077\n",
      "Epoch 121/200\n",
      "1/1 [==============================] - 0s 9ms/step - loss: 0.4335 - sparse_categorical_accuracy: 0.9127\n",
      "Epoch 122/200\n",
      "1/1 [==============================] - 0s 6ms/step - loss: 0.4314 - sparse_categorical_accuracy: 0.9077\n",
      "Epoch 123/200\n",
      "1/1 [==============================] - ETA: 0s - loss: 0.4294 - sparse_categorical_accuracy: 0.912 - 0s 7ms/step - loss: 0.4294 - sparse_categorical_accuracy: 0.9127\n",
      "Epoch 124/200\n",
      "1/1 [==============================] - 0s 11ms/step - loss: 0.4273 - sparse_categorical_accuracy: 0.9077\n",
      "Epoch 125/200\n",
      "1/1 [==============================] - 0s 9ms/step - loss: 0.4253 - sparse_categorical_accuracy: 0.9127\n",
      "Epoch 126/200\n",
      "1/1 [==============================] - 0s 7ms/step - loss: 0.4233 - sparse_categorical_accuracy: 0.9102\n",
      "Epoch 127/200\n",
      "1/1 [==============================] - 0s 12ms/step - loss: 0.4213 - sparse_categorical_accuracy: 0.9127\n",
      "Epoch 128/200\n",
      "1/1 [==============================] - 0s 10ms/step - loss: 0.4193 - sparse_categorical_accuracy: 0.9152\n",
      "Epoch 129/200\n",
      "1/1 [==============================] - 0s 8ms/step - loss: 0.4173 - sparse_categorical_accuracy: 0.9127\n",
      "Epoch 130/200\n",
      "1/1 [==============================] - 0s 11ms/step - loss: 0.4153 - sparse_categorical_accuracy: 0.9152\n",
      "Epoch 131/200\n",
      "1/1 [==============================] - 0s 8ms/step - loss: 0.4133 - sparse_categorical_accuracy: 0.9127\n",
      "Epoch 132/200\n",
      "1/1 [==============================] - 0s 6ms/step - loss: 0.4114 - sparse_categorical_accuracy: 0.9152\n",
      "Epoch 133/200\n",
      "1/1 [==============================] - 0s 10ms/step - loss: 0.4094 - sparse_categorical_accuracy: 0.9127\n",
      "Epoch 134/200\n",
      "1/1 [==============================] - 0s 8ms/step - loss: 0.4075 - sparse_categorical_accuracy: 0.9152\n",
      "Epoch 135/200\n",
      "1/1 [==============================] - 0s 6ms/step - loss: 0.4055 - sparse_categorical_accuracy: 0.9127\n",
      "Epoch 136/200\n",
      "1/1 [==============================] - 0s 6ms/step - loss: 0.4036 - sparse_categorical_accuracy: 0.9152\n"
     ]
    },
    {
     "name": "stdout",
     "output_type": "stream",
     "text": [
      "Epoch 137/200\n",
      "1/1 [==============================] - 0s 8ms/step - loss: 0.4017 - sparse_categorical_accuracy: 0.9152\n",
      "Epoch 138/200\n",
      "1/1 [==============================] - 0s 8ms/step - loss: 0.3998 - sparse_categorical_accuracy: 0.9152\n",
      "Epoch 139/200\n",
      "1/1 [==============================] - 0s 9ms/step - loss: 0.3979 - sparse_categorical_accuracy: 0.9152\n",
      "Epoch 140/200\n",
      "1/1 [==============================] - 0s 9ms/step - loss: 0.3960 - sparse_categorical_accuracy: 0.9152\n",
      "Epoch 141/200\n",
      "1/1 [==============================] - 0s 7ms/step - loss: 0.3941 - sparse_categorical_accuracy: 0.9177\n",
      "Epoch 142/200\n",
      "1/1 [==============================] - 0s 7ms/step - loss: 0.3922 - sparse_categorical_accuracy: 0.9152\n",
      "Epoch 143/200\n",
      "1/1 [==============================] - 0s 11ms/step - loss: 0.3904 - sparse_categorical_accuracy: 0.9152\n",
      "Epoch 144/200\n",
      "1/1 [==============================] - 0s 5ms/step - loss: 0.3885 - sparse_categorical_accuracy: 0.9152\n",
      "Epoch 145/200\n",
      "1/1 [==============================] - 0s 8ms/step - loss: 0.3867 - sparse_categorical_accuracy: 0.9152\n",
      "Epoch 146/200\n",
      "1/1 [==============================] - 0s 9ms/step - loss: 0.3848 - sparse_categorical_accuracy: 0.9177\n",
      "Epoch 147/200\n",
      "1/1 [==============================] - 0s 8ms/step - loss: 0.3830 - sparse_categorical_accuracy: 0.9152\n",
      "Epoch 148/200\n",
      "1/1 [==============================] - 0s 7ms/step - loss: 0.3812 - sparse_categorical_accuracy: 0.9177\n",
      "Epoch 149/200\n",
      "1/1 [==============================] - 0s 10ms/step - loss: 0.3794 - sparse_categorical_accuracy: 0.9152\n",
      "Epoch 150/200\n",
      "1/1 [==============================] - 0s 8ms/step - loss: 0.3776 - sparse_categorical_accuracy: 0.9177\n",
      "Epoch 151/200\n",
      "1/1 [==============================] - 0s 12ms/step - loss: 0.3758 - sparse_categorical_accuracy: 0.9152\n",
      "Epoch 152/200\n",
      "1/1 [==============================] - 0s 11ms/step - loss: 0.3740 - sparse_categorical_accuracy: 0.9177\n",
      "Epoch 153/200\n",
      "1/1 [==============================] - 0s 8ms/step - loss: 0.3723 - sparse_categorical_accuracy: 0.9152\n",
      "Epoch 154/200\n",
      "1/1 [==============================] - 0s 6ms/step - loss: 0.3705 - sparse_categorical_accuracy: 0.9202\n",
      "Epoch 155/200\n",
      "1/1 [==============================] - 0s 10ms/step - loss: 0.3688 - sparse_categorical_accuracy: 0.9152\n",
      "Epoch 156/200\n",
      "1/1 [==============================] - 0s 12ms/step - loss: 0.3670 - sparse_categorical_accuracy: 0.9202\n",
      "Epoch 157/200\n",
      "1/1 [==============================] - 0s 8ms/step - loss: 0.3653 - sparse_categorical_accuracy: 0.9152\n",
      "Epoch 158/200\n",
      "1/1 [==============================] - 0s 10ms/step - loss: 0.3636 - sparse_categorical_accuracy: 0.9202\n",
      "Epoch 159/200\n",
      "1/1 [==============================] - 0s 8ms/step - loss: 0.3618 - sparse_categorical_accuracy: 0.9152\n",
      "Epoch 160/200\n",
      "1/1 [==============================] - 0s 14ms/step - loss: 0.3601 - sparse_categorical_accuracy: 0.9227\n",
      "Epoch 161/200\n",
      "1/1 [==============================] - 0s 18ms/step - loss: 0.3584 - sparse_categorical_accuracy: 0.9152\n",
      "Epoch 162/200\n",
      "1/1 [==============================] - 0s 10ms/step - loss: 0.3568 - sparse_categorical_accuracy: 0.9252\n",
      "Epoch 163/200\n",
      "1/1 [==============================] - 0s 7ms/step - loss: 0.3551 - sparse_categorical_accuracy: 0.9152\n",
      "Epoch 164/200\n",
      "1/1 [==============================] - 0s 10ms/step - loss: 0.3534 - sparse_categorical_accuracy: 0.9252\n",
      "Epoch 165/200\n",
      "1/1 [==============================] - 0s 7ms/step - loss: 0.3518 - sparse_categorical_accuracy: 0.9152\n",
      "Epoch 166/200\n",
      "1/1 [==============================] - 0s 8ms/step - loss: 0.3501 - sparse_categorical_accuracy: 0.9252\n",
      "Epoch 167/200\n",
      "1/1 [==============================] - 0s 9ms/step - loss: 0.3485 - sparse_categorical_accuracy: 0.9152\n",
      "Epoch 168/200\n",
      "1/1 [==============================] - 0s 9ms/step - loss: 0.3469 - sparse_categorical_accuracy: 0.9252\n",
      "Epoch 169/200\n",
      "1/1 [==============================] - 0s 9ms/step - loss: 0.3452 - sparse_categorical_accuracy: 0.9152\n",
      "Epoch 170/200\n",
      "1/1 [==============================] - 0s 9ms/step - loss: 0.3436 - sparse_categorical_accuracy: 0.9252\n",
      "Epoch 171/200\n",
      "1/1 [==============================] - 0s 9ms/step - loss: 0.3420 - sparse_categorical_accuracy: 0.9152\n",
      "Epoch 172/200\n",
      "1/1 [==============================] - 0s 8ms/step - loss: 0.3404 - sparse_categorical_accuracy: 0.9252\n",
      "Epoch 173/200\n",
      "1/1 [==============================] - 0s 10ms/step - loss: 0.3389 - sparse_categorical_accuracy: 0.9152\n",
      "Epoch 174/200\n",
      "1/1 [==============================] - 0s 8ms/step - loss: 0.3373 - sparse_categorical_accuracy: 0.9252\n",
      "Epoch 175/200\n",
      "1/1 [==============================] - 0s 10ms/step - loss: 0.3357 - sparse_categorical_accuracy: 0.9152\n",
      "Epoch 176/200\n",
      "1/1 [==============================] - 0s 6ms/step - loss: 0.3342 - sparse_categorical_accuracy: 0.9252\n",
      "Epoch 177/200\n",
      "1/1 [==============================] - 0s 9ms/step - loss: 0.3326 - sparse_categorical_accuracy: 0.9152\n",
      "Epoch 178/200\n",
      "1/1 [==============================] - 0s 11ms/step - loss: 0.3311 - sparse_categorical_accuracy: 0.9252\n",
      "Epoch 179/200\n",
      "1/1 [==============================] - 0s 9ms/step - loss: 0.3296 - sparse_categorical_accuracy: 0.9177\n",
      "Epoch 180/200\n",
      "1/1 [==============================] - 0s 7ms/step - loss: 0.3281 - sparse_categorical_accuracy: 0.9252\n",
      "Epoch 181/200\n",
      "1/1 [==============================] - 0s 11ms/step - loss: 0.3265 - sparse_categorical_accuracy: 0.9177\n",
      "Epoch 182/200\n",
      "1/1 [==============================] - 0s 9ms/step - loss: 0.3250 - sparse_categorical_accuracy: 0.9252\n",
      "Epoch 183/200\n",
      "1/1 [==============================] - 0s 10ms/step - loss: 0.3235 - sparse_categorical_accuracy: 0.9202\n",
      "Epoch 184/200\n",
      "1/1 [==============================] - 0s 8ms/step - loss: 0.3221 - sparse_categorical_accuracy: 0.9252\n",
      "Epoch 185/200\n",
      "1/1 [==============================] - 0s 7ms/step - loss: 0.3206 - sparse_categorical_accuracy: 0.9227\n",
      "Epoch 186/200\n",
      "1/1 [==============================] - 0s 11ms/step - loss: 0.3191 - sparse_categorical_accuracy: 0.9252\n",
      "Epoch 187/200\n",
      "1/1 [==============================] - 0s 10ms/step - loss: 0.3177 - sparse_categorical_accuracy: 0.9227\n",
      "Epoch 188/200\n",
      "1/1 [==============================] - 0s 11ms/step - loss: 0.3162 - sparse_categorical_accuracy: 0.9252\n",
      "Epoch 189/200\n",
      "1/1 [==============================] - 0s 11ms/step - loss: 0.3148 - sparse_categorical_accuracy: 0.9227\n",
      "Epoch 190/200\n",
      "1/1 [==============================] - ETA: 0s - loss: 0.3133 - sparse_categorical_accuracy: 0.927 - 0s 11ms/step - loss: 0.3133 - sparse_categorical_accuracy: 0.9277\n",
      "Epoch 191/200\n",
      "1/1 [==============================] - 0s 9ms/step - loss: 0.3119 - sparse_categorical_accuracy: 0.9227\n",
      "Epoch 192/200\n",
      "1/1 [==============================] - 0s 6ms/step - loss: 0.3105 - sparse_categorical_accuracy: 0.9277\n",
      "Epoch 193/200\n",
      "1/1 [==============================] - 0s 11ms/step - loss: 0.3091 - sparse_categorical_accuracy: 0.9227\n",
      "Epoch 194/200\n",
      "1/1 [==============================] - 0s 9ms/step - loss: 0.3077 - sparse_categorical_accuracy: 0.9277\n",
      "Epoch 195/200\n",
      "1/1 [==============================] - 0s 10ms/step - loss: 0.3063 - sparse_categorical_accuracy: 0.9302\n",
      "Epoch 196/200\n",
      "1/1 [==============================] - 0s 8ms/step - loss: 0.3049 - sparse_categorical_accuracy: 0.9277\n",
      "Epoch 197/200\n",
      "1/1 [==============================] - 0s 7ms/step - loss: 0.3035 - sparse_categorical_accuracy: 0.9302\n",
      "Epoch 198/200\n",
      "1/1 [==============================] - 0s 7ms/step - loss: 0.3022 - sparse_categorical_accuracy: 0.9277\n",
      "Epoch 199/200\n",
      "1/1 [==============================] - 0s 13ms/step - loss: 0.3008 - sparse_categorical_accuracy: 0.9302\n",
      "Epoch 200/200\n",
      "1/1 [==============================] - 0s 7ms/step - loss: 0.2994 - sparse_categorical_accuracy: 0.9277\n"
     ]
    },
    {
     "data": {
      "text/plain": [
       "<keras.callbacks.History at 0x23939e70e20>"
      ]
     },
     "execution_count": 12,
     "metadata": {},
     "output_type": "execute_result"
    }
   ],
   "source": [
    "model.fit(train_dataset, epochs=200,batch_size=256)"
   ]
  },
  {
   "cell_type": "code",
   "execution_count": 13,
   "metadata": {},
   "outputs": [
    {
     "name": "stdout",
     "output_type": "stream",
     "text": [
      "1/1 [==============================] - 0s 163ms/step - loss: 0.2633 - sparse_categorical_accuracy: 0.9602\n"
     ]
    },
    {
     "data": {
      "text/plain": [
       "[0.2632850706577301, 0.9601989984512329]"
      ]
     },
     "execution_count": 13,
     "metadata": {},
     "output_type": "execute_result"
    }
   ],
   "source": [
    "model.evaluate(validate_dataset)"
   ]
  },
  {
   "cell_type": "code",
   "execution_count": 14,
   "metadata": {},
   "outputs": [
    {
     "name": "stdout",
     "output_type": "stream",
     "text": [
      "INFO:tensorflow:Assets written to: psychornot-keras\\assets\n"
     ]
    }
   ],
   "source": [
    "model.save(\"psychornot-keras\")"
   ]
  },
  {
   "cell_type": "code",
   "execution_count": 15,
   "metadata": {},
   "outputs": [],
   "source": [
    "def predict_sequence(model,seq):\n",
    "    tokenized=(np.expand_dims(seqpair_tokenize(seq),0))\n",
    "    prediction= model.predict(tokenized)\n",
    "    classes=[\"Psychrophillic\",\"Thermophillic\"]\n",
    "    return classes[prediction.argmax()]\n",
    "def predict_sequence_score(model,seq):\n",
    "    tokenized=(np.expand_dims(seqpair_tokenize(seq),0))\n",
    "    prediction= model.predict(tokenized)\n",
    "    return prediction"
   ]
  },
  {
   "cell_type": "code",
   "execution_count": 16,
   "metadata": {},
   "outputs": [
    {
     "data": {
      "text/plain": [
       "'Psychrophillic'"
      ]
     },
     "execution_count": 16,
     "metadata": {},
     "output_type": "execute_result"
    }
   ],
   "source": [
    "#B.lichienformis A-amylase (thermophillic), still some. \n",
    "seq=\"MKQQKRLYARLLTLLFALIFLLPHSAAAAANLNGTLMQYFEWYMPNDGQHWKRLQNDSAYLAEHGITAVWIPPAYKGTSQADVGYGAYDLYDLGEFHQKGTVRTKYGTKGELQSAIKSLHSRDINVYGDVVINHKGGADATEDVTAVEVDPADRNRVISGEHRIKAWTHFHFPGRGSTYSDFKWHWYHFDGTDWDESRKLNRIYKFQGKAWDWEVSNENGNYDYLMYADIDYDHPDVAAEIKRWGTWYANELQLDGFRLDAVKHIKFSFLRDWVNHVREKTGKEMFTVAEYWQNDLGALENYLNKTNFNHSVFDVPLHYQFHAASTQGGGYDMRKLLNSTVVSKHPLKAVTFVDNHDTQPGQSLESTVQTWFKPLAYAFILTRESGYPQVFYGDMYGTKGDSQREIPALKHKIEPILKARKQYAYGAQHDYFDHHDIVGWTREGDSSVANSGLAALITDGPGGAKRMYVGRQNAGETWHDITGNRSEPVVINSEGWGEFHVNGGSVSIYVQR\"\n",
    "predict_sequence(model,seq)"
   ]
  },
  {
   "cell_type": "code",
   "execution_count": 17,
   "metadata": {},
   "outputs": [
    {
     "data": {
      "text/plain": [
       "'Psychrophillic'"
      ]
     },
     "execution_count": 17,
     "metadata": {},
     "output_type": "execute_result"
    }
   ],
   "source": [
    "#Pseudoalteromonas haloplanktis A-amylase (psychrophillic)\n",
    "\n",
    "seq=\"MKLNKIITTAGLSLGLLLPSIATATPTTFVHLFEWNWQDVAQECEQYLGPKGYAAVQVSPPNEHITGSQWWTRYQPVSYELQSRGGNRAQFIDMVNRCSAAGVDIYVDTLINHMAAGSGTGTAGNSFGNKSFPIYSPQDFHESCTINNSDYGNDRYRVQNCELVGLADLDTASNYVQNTIAAYINDLQAIGVKGFRFDASKHVAASDIQSLMAKVNGSPVVFQEVIDQGGEAVGASEYLSTGLVTEFKYSTELGNTFRNGSLAWLSNFGEGWGFMPSSSAVVFVDNHDNQRGHGGAGNVITFEDGRLYDLANVFMLAYPYGYPKVMSSYDFHGDTDAGGPNVPVHNNGNLECFASNWKCEHRWSYIAGGVDFRNNTADNWAVTNWWDNTNNQISFGRGSSGHMAINKEDSTLTATVQTDMASGQYCNVLKGELSADAKSCSGEVITVNSDGTINLNIGAWDAMAIHKNAKLNTSSASSTESDWQRTVIFINAQTQSGQDMFIRGGIDHAYANANLGRNCQTSNFECAMPIRHNNLKNVTTSPWKANDNYLDWYGIENGQSSEAEGSATDWTTNVWPAGWGAEKTVNTDGFGVTPLNIWGEHYWMLDVDMDCSKAVNGWFELKAFIKNGQGWETAIAQDNAPYTSTNHMAQCGKINKFEFNNSGVVIRSF\"\n",
    "predict_sequence(model,seq)"
   ]
  },
  {
   "cell_type": "code",
   "execution_count": 18,
   "metadata": {},
   "outputs": [
    {
     "name": "stdout",
     "output_type": "stream",
     "text": [
      "Wall time: 66.8 ms\n"
     ]
    },
    {
     "data": {
      "text/plain": [
       "'Psychrophillic'"
      ]
     },
     "execution_count": 18,
     "metadata": {},
     "output_type": "execute_result"
    }
   ],
   "source": [
    "%%time\n",
    "#Salmon elastase\n",
    "seq=\"VVGGRVAQPNSWPWQISLQYKSGSSYYHTCGGSLIRQGWVMTAAHCVDSARTWRVVLGEHNLNTNEGKEQIMTVNSVFIHSGWNSDDVAGGYDIALLRLNTQASLNSAVQLAALPPSNQILPNNNPCYITGWGKTSTGGPLSDSLKQAWLPSVDHATCSSSGWWGSTVKTTMVCAGGGANSGCNGDSGGPLNCQVNGSYYVHGVTSFVSSSGCNASKKPTVFTRVSAYISWMNGIM\"\n",
    "predict_sequence(model,seq)"
   ]
  },
  {
   "cell_type": "code",
   "execution_count": 19,
   "metadata": {},
   "outputs": [
    {
     "data": {
      "text/plain": [
       "'Psychrophillic'"
      ]
     },
     "execution_count": 19,
     "metadata": {},
     "output_type": "execute_result"
    }
   ],
   "source": [
    "#Vibrio AP\n",
    "seq=\"MKPIVTAVVTSTLSFNVLSAEIKNVILMIGDGMGPQQVGLLETYANQAPNSIYKGNKTAIYQLAQEGVIGSSLTHPEDAIVVDSACSATMLATGIYSSSEVIGIDSQGNHVETVLEKAKKAGKATGLVSDTRLTHATPASFAAHQPHRSLENQIASDMLATGADVMLSGGLRHWIPKSTNDKGETYKQLEKLTQGDVYLKSKRKDDRNLLTEAEKDGYQLAFNRNMLDDAKGDKLLGLFAYSGMDDGIAYSNKKKSGERTQPSLKEMTQKALNILSKDEDGFFLMVEGGQIDWAGHSNDAGTMLHELLKFDEAIQTVYEWAKDREDTIVIVTADHETGSFGFSYSSNDLPKPQKRSGEAFADRDYAPNFNFGAFDILDGLYNQKQSYYGMISEFQKLDKSLQTPEKLAEIVNKNSEFPITAEQAKNVLASKPNPYRLAQHKYLSAEEVPAINDFDAFFPYNDRGNLLAREQATGQNIVWGTGTHTHTPVNVFAWGPAEKILPVSKIMHHSELGEYIKQQVN\"\n",
    "predict_sequence(model,seq)"
   ]
  },
  {
   "cell_type": "code",
   "execution_count": 20,
   "metadata": {},
   "outputs": [
    {
     "data": {
      "text/plain": [
       "'Thermophillic'"
      ]
     },
     "execution_count": 20,
     "metadata": {},
     "output_type": "execute_result"
    }
   ],
   "source": [
    "#hyperthermophile\n",
    "seq=\"MLNIYLKSKIHMATITRKEVYYEGSIEIDEELMGKAGISEGELVLVVNVNNAERFVTYVIKGKRGSREINLYGAAARLGEEGDRVIIMAFTFSDKPVKAKTIVLNEKNEIVQEK\"\n",
    "predict_sequence(model,seq)"
   ]
  },
  {
   "cell_type": "code",
   "execution_count": 21,
   "metadata": {},
   "outputs": [
    {
     "data": {
      "text/plain": [
       "'Thermophillic'"
      ]
     },
     "execution_count": 21,
     "metadata": {},
     "output_type": "execute_result"
    }
   ],
   "source": [
    "#thermophile\n",
    "seq=\"MKKVGILNSEISKIVADMGHMDTLAVVDLGFPIPQGVKKVDLVVDRGKPGLMEVIEILLRELKVERIILAKEMDEKSIQTKQELLKLIEKMNGPVEVVTVPHKEFKEMSKNVKGIIRTGADIPYSNVILVGGVIF\"\n",
    "predict_sequence(model,seq)"
   ]
  },
  {
   "cell_type": "code",
   "execution_count": 22,
   "metadata": {},
   "outputs": [
    {
     "data": {
      "text/plain": [
       "'Psychrophillic'"
      ]
     },
     "execution_count": 22,
     "metadata": {},
     "output_type": "execute_result"
    }
   ],
   "source": [
    "seq=\"AFNNNPSSVGAYSSGTYRNLAQEMGKTNIQQKVNSTFDNMFGYNNTQQLYYPYTENGVYKAHYIKAINPDEGDDIRTQGQSWGMTAAVMLNKQEEFDNLWRFAKAYQKNPDNHPDAKKQGVYAWKLKLNQNGFVYKVDEGPAPDGEEYFAFALLNASARWGNSGEFNYYNDAITMLNTIKNKLMENQIIRFSPYIDNLTDPSYHIPAFYDYFANNVTNQADKNYWRQVATKSRTLLKNHFTKVSGSPHWNLPTFLSRLDGSPVIGYIFNGQANPGQWYEFDAWRVIMNVGLDAHLMGAQAWHKSAVNKALGFLSYAKTNNSKNCYEQVYSYGGAQNRGCAGEGQKAANAVALLASTNAGQANEFFNEFWSLSQPTGDYRYYNGSLYMLAMLHVSGNFKFYNNTFN\"\n",
    "predict_sequence(model,seq)"
   ]
  },
  {
   "cell_type": "code",
   "execution_count": 23,
   "metadata": {},
   "outputs": [
    {
     "name": "stdout",
     "output_type": "stream",
     "text": [
      "Wall time: 95.7 ms\n"
     ]
    },
    {
     "data": {
      "text/plain": [
       "array([[ 0.5350865, -0.6710557]], dtype=float32)"
      ]
     },
     "execution_count": 23,
     "metadata": {},
     "output_type": "execute_result"
    }
   ],
   "source": [
    "%%time\n",
    "#mesophile\n",
    "seq=\"MKLFLLLSAFGFCWAQYAPQTQSGRTSIVHLFEWRWVDIALECERYLGPKGFGGVQVSPPNENIVVTNPSRPWWERYQPVSYKLCTRSGNENEFRDMVTRCNNVGVRIYVDAVINHMCGSGAAAGTGTTCGSYCNPGNREFPAVPYSAWDFNDGKCKTASGGIESYNDPYQVRDCQLVGLLDLALEKDYVRSMIADYLNKLIDIGVAGFRIDASKHMWPGDIKAVLDKLHNLNTNWFPAGSRPFIFQEVIDLGGEAIQSSEYFGNGRVTEFKYGAKLGTVVRKWSGEKMSYLKNWGEGWGFMPSDRALVFVDNHDNQRGHGAGGASILTFWDARLYKVAVGFMLAHPYGFTRVMSSYRWARNFVNGQDVNDWIGPPNNNGVIKEVTINADTTCGNDWVCEHRWRQIRNMVWFRNVVDGQPFANWWANGSNQVAFGRGNRGFIVFNNDDWQLSSTLQTGLPGGTYCDVISGDKVGNSCTGIKVYVSSDGTAQFSISNSAEDPFIAIHAESKL\"\n",
    "predict_sequence_score(model,seq)"
   ]
  },
  {
   "cell_type": "code",
   "execution_count": null,
   "metadata": {},
   "outputs": [],
   "source": []
  },
  {
   "cell_type": "code",
   "execution_count": null,
   "metadata": {},
   "outputs": [],
   "source": [
    "#Not machine-learning directly, but visualize the features extracted from the sequences"
   ]
  },
  {
   "cell_type": "code",
   "execution_count": 24,
   "metadata": {},
   "outputs": [],
   "source": [
    "averagepsychro=np.average(dataset[\"AApairs\"].loc[dataset[\"Label\"]==\"Psychro\"])\n",
    "averagethermo=np.average(dataset[\"AApairs\"].loc[dataset[\"Label\"]==\"Thermo\"])\n",
    "difference = averagepsychro-averagethermo"
   ]
  },
  {
   "cell_type": "code",
   "execution_count": 25,
   "metadata": {},
   "outputs": [
    {
     "data": {
      "text/plain": [
       "<matplotlib.colorbar.Colorbar at 0x22a8b7e1400>"
      ]
     },
     "execution_count": 25,
     "metadata": {},
     "output_type": "execute_result"
    },
    {
     "data": {
      "image/png": "[encoded data removed]",
      "text/plain": [
       "<Figure size 432x288 with 2 Axes>"
      ]
     },
     "metadata": {
      "needs_background": "light"
     },
     "output_type": "display_data"
    }
   ],
   "source": [
    "import matplotlib.pyplot as plt\n",
    "\n",
    "fig, ax = plt.subplots(1,1)\n",
    "img = ax.imshow(averagepsychro)\n",
    "ax.set_xticks(range(0,20))\n",
    "ax.set_yticks(range(0,20))\n",
    "\n",
    "#io.imshow(difference)\n",
    "ax.set_xticklabels(aa)\n",
    "ax.set_yticklabels(aa)\n",
    "fig.colorbar(img)\n"
   ]
  },
  {
   "cell_type": "code",
   "execution_count": 26,
   "metadata": {},
   "outputs": [
    {
     "data": {
      "text/plain": [
       "<matplotlib.colorbar.Colorbar at 0x22a8b9431c0>"
      ]
     },
     "execution_count": 26,
     "metadata": {},
     "output_type": "execute_result"
    },
    {
     "data": {
      "image/png": "[encoded data removed]",
      "text/plain": [
       "<Figure size 432x288 with 2 Axes>"
      ]
     },
     "metadata": {
      "needs_background": "light"
     },
     "output_type": "display_data"
    }
   ],
   "source": [
    "fig, ax = plt.subplots(1,1)\n",
    "img = ax.imshow(averagethermo)\n",
    "ax.set_xticks(range(0,20))\n",
    "ax.set_yticks(range(0,20))\n",
    "\n",
    "#io.imshow(difference)\n",
    "ax.set_xticklabels(aa)\n",
    "ax.set_yticklabels(aa)\n",
    "fig.colorbar(img)\n"
   ]
  },
  {
   "cell_type": "code",
   "execution_count": 27,
   "metadata": {},
   "outputs": [
    {
     "data": {
      "text/plain": [
       "<matplotlib.colorbar.Colorbar at 0x22a8ba0d850>"
      ]
     },
     "execution_count": 27,
     "metadata": {},
     "output_type": "execute_result"
    },
    {
     "data": {
      "image/png": "[encoded data removed]",
      "text/plain": [
       "<Figure size 432x288 with 2 Axes>"
      ]
     },
     "metadata": {
      "needs_background": "light"
     },
     "output_type": "display_data"
    }
   ],
   "source": [
    "\n",
    "fig, ax = plt.subplots(1,1)\n",
    "img = ax.imshow(difference)\n",
    "ax.set_xticks(range(0,20))\n",
    "ax.set_yticks(range(0,20))\n",
    "\n",
    "#io.imshow(difference)\n",
    "ax.set_xticklabels(aa)\n",
    "ax.set_yticklabels(aa)\n",
    "fig.colorbar(img)\n"
   ]
  },
  {
   "cell_type": "code",
   "execution_count": 28,
   "metadata": {},
   "outputs": [],
   "source": [
    "y_pred=model.predict(train_dataset) #Calculate predicted values for the training dataset \n",
    "ypred=y_pred.argmax(axis=1)"
   ]
  },
  {
   "cell_type": "code",
   "execution_count": 24,
   "metadata": {},
   "outputs": [
    {
     "ename": "NameError",
     "evalue": "name 'ypred' is not defined",
     "output_type": "error",
     "traceback": [
      "\u001b[1;31m---------------------------------------------------------------------------\u001b[0m",
      "\u001b[1;31mNameError\u001b[0m                                 Traceback (most recent call last)",
      "\u001b[1;32m<ipython-input-24-832a886f4c94>\u001b[0m in \u001b[0;36m<module>\u001b[1;34m\u001b[0m\n\u001b[0;32m      1\u001b[0m \u001b[1;32mfrom\u001b[0m \u001b[0msklearn\u001b[0m \u001b[1;32mimport\u001b[0m \u001b[0mmetrics\u001b[0m \u001b[1;31m#Build a confusion matrix to check for false positives, false negatives etc.\u001b[0m\u001b[1;33m\u001b[0m\u001b[1;33m\u001b[0m\u001b[0m\n\u001b[1;32m----> 2\u001b[1;33m \u001b[0mconfmatrix\u001b[0m\u001b[1;33m=\u001b[0m\u001b[0mmetrics\u001b[0m\u001b[1;33m.\u001b[0m\u001b[0mconfusion_matrix\u001b[0m\u001b[1;33m(\u001b[0m\u001b[0my\u001b[0m\u001b[1;33m,\u001b[0m\u001b[0mypred\u001b[0m\u001b[1;33m)\u001b[0m\u001b[1;33m\u001b[0m\u001b[1;33m\u001b[0m\u001b[0m\n\u001b[0m\u001b[0;32m      3\u001b[0m \u001b[0mmetrics\u001b[0m\u001b[1;33m.\u001b[0m\u001b[0mConfusionMatrixDisplay\u001b[0m\u001b[1;33m(\u001b[0m\u001b[0mconfmatrix\u001b[0m\u001b[1;33m)\u001b[0m\u001b[1;33m.\u001b[0m\u001b[0mplot\u001b[0m\u001b[1;33m(\u001b[0m\u001b[1;33m)\u001b[0m\u001b[1;33m\u001b[0m\u001b[1;33m\u001b[0m\u001b[0m\n",
      "\u001b[1;31mNameError\u001b[0m: name 'ypred' is not defined"
     ]
    }
   ],
   "source": [
    "from sklearn import metrics #Build a confusion matrix to check for false positives, false negatives etc.\n",
    "confmatrix=metrics.confusion_matrix(y,ypred)\n",
    "metrics.ConfusionMatrixDisplay(confmatrix).plot()"
   ]
  },
  {
   "cell_type": "code",
   "execution_count": null,
   "metadata": {},
   "outputs": [],
   "source": []
  },
  {
   "cell_type": "code",
   "execution_count": null,
   "metadata": {},
   "outputs": [],
   "source": []
  },
  {
   "cell_type": "code",
   "execution_count": null,
   "metadata": {},
   "outputs": [],
   "source": []
  }
 ],
 "metadata": {
  "kernelspec": {
   "display_name": "Python 3",
   "language": "python",
   "name": "python3"
  },
  "language_info": {
   "codemirror_mode": {
    "name": "ipython",
    "version": 3
   },
   "file_extension": ".py",
   "mimetype": "text/x-python",
   "name": "python",
   "nbconvert_exporter": "python",
   "pygments_lexer": "ipython3",
   "version": "3.8.5"
  }
 },
 "nbformat": 4,
 "nbformat_minor": 4
}

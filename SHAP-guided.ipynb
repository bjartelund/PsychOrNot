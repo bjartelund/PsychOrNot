{
 "cells": [
  {
   "cell_type": "code",
   "execution_count": 57,
   "metadata": {},
   "outputs": [],
   "source": [
    "# Shap analysis indicated that \"AL\" is a defining dipeptide for psychrophilicity.\n",
    "#Quite clear shift for C.gunnari and P. Tessalata\n",
    "dogfishSeq=\"\"\"MSTKEKLISHVMKEEPVGSRSKVTVVGVGMVGMASAISILLKDLCDELAMVDVMEDKLKGEVMDLQHGSLFLKTKIVGDKDYSVTANSKVVVVTAGARQQEGESRLNLVQRNVNIFKFIIPNIVKYSPNCILMVVSNPVDILTYVAWKLSGFPRHRVIGSGTNLDSARFRHLIGEKLHLHPSSCHAWIVGEHGDSSVPVWSGVNVAGVSLQGLNPQMGTEGDGENWKAIHKEVVDGAYEVIKLKGYTSWAIGMSVADLVESIIKNMHKVHPVSTLVQGMHGVKDEVFLSVPCVLGNSGLTDVIHMTLKAEEEKQLQKSAETLWGVQKELTL\"\"\"\n",
    "dogfishSeq=\"MSTKEKLISHVMKEEPVGSRSKVTVVGVGMVGMASAISILLKDLCDELAMVDVMEDKLKGEVMDLQHGSLFLKTKIVGDKDYSVTANSKVVVVTAGARQQEGESRLNLVQRNVNIFKFIIPNIVKYSPNCILMVVSNPVDILTYVAWKLSGFPRHRVIGSGTNLDSARFRHLIGEKLHLHPSSCHAWIVGEHGDSSVPVWSGVNVAGVSLQGLNPQMGTEGDGENWKAIHKEVVDGAYEVIKLKGYTSWAIGMSVADLVESIIKNMHKVHPVSTLVQGMHGVKDEVFLSVPCVLGNSGLTDVIHMTLKAEEEKQVQKSAETLWGVQKELTL\"\n",
    "dogfishSeqList=list(dogfishSeq)"
   ]
  },
  {
   "cell_type": "code",
   "execution_count": 58,
   "metadata": {},
   "outputs": [],
   "source": [
    "from tensorflow import keras\n",
    "import numpy as np\n",
    "model = keras.models.load_model(\"psychornot-keras\")\n",
    "aa=\"AGSTNQVILMFYWHPKREDC\"\n",
    "def seqpair_tokenize(seq):\n",
    "    #Takes a single-character protein sequence, returns a 20x20 ndarray with the frequencies of sequence neighbors \n",
    "    prev=\"\"\n",
    "    cur=\"\"\n",
    "    second=\"\"\n",
    "    aapairs=np.zeros((20,20))\n",
    "    wl=1/len(seq)\n",
    "    for c in seq:\n",
    "        try:\n",
    "            cur=aa.index(c)\n",
    "        except ValueError:\n",
    "            prev=\"\"\n",
    "        if prev:\n",
    "            aapairs[prev,cur]+=wl\n",
    "    \n",
    "        prev=cur\n",
    "    return aapairs\n",
    "def predict_sequence_score(model,seq):\n",
    "    tokenized=(np.expand_dims(seqpair_tokenize(seq),0))\n",
    "    prediction= model.predict(tokenized)\n",
    "    return prediction"
   ]
  },
  {
   "cell_type": "code",
   "execution_count": 59,
   "metadata": {},
   "outputs": [
    {
     "data": {
      "text/plain": [
       "array([[ 0.34503984, -0.022397  ]], dtype=float32)"
      ]
     },
     "execution_count": 59,
     "metadata": {},
     "output_type": "execute_result"
    }
   ],
   "source": [
    "predict_sequence_score(model,dogfishSeq)"
   ]
  },
  {
   "cell_type": "code",
   "execution_count": 60,
   "metadata": {},
   "outputs": [],
   "source": [
    "import re\n",
    "for Lpos in [m.start() for m in re.finditer(\"L\",dogfishSeq)]:\n",
    "    previousPos=dogfishSeq[Lpos-1]\n",
    "    if previousPos not in \"DEKR\":\n",
    "        dogfishSeqList[Lpos-1]=\"A\""
   ]
  },
  {
   "cell_type": "code",
   "execution_count": 61,
   "metadata": {},
   "outputs": [],
   "source": [
    "mutated=\"\".join(dogfishSeqList)"
   ]
  },
  {
   "cell_type": "code",
   "execution_count": 62,
   "metadata": {},
   "outputs": [
    {
     "data": {
      "text/plain": [
       "'MSTKEKLISHVMKEEPVGSRSKVTVVGVGMVGMASAISILLKDLCDELAMVDVMEDKLKGEVMDLQHGSLFLKTKIVGDKDYSVTANSKVVVVTAGARQQEGESRLNLVQRNVNIFKFIIPNIVKYSPNCILMVVSNPVDILTYVAWKLSGFPRHRVIGSGTNLDSARFRHLIGEKLHLHPSSCHAWIVGEHGDSSVPVWSGVNVAGVSLQGLNPQMGTEGDGENWKAIHKEVVDGAYEVIKLKGYTSWAIGMSVADLVESIIKNMHKVHPVSTLVQGMHGVKDEVFLSVPCVLGNSGLTDVIHMTLKAEEEKQVQKSAETLWGVQKELTL'"
      ]
     },
     "execution_count": 62,
     "metadata": {},
     "output_type": "execute_result"
    }
   ],
   "source": [
    "dogfishSeq"
   ]
  },
  {
   "cell_type": "code",
   "execution_count": 63,
   "metadata": {},
   "outputs": [
    {
     "data": {
      "text/plain": [
       "array([[0.17412798, 0.11383058]], dtype=float32)"
      ]
     },
     "execution_count": 63,
     "metadata": {},
     "output_type": "execute_result"
    }
   ],
   "source": [
    "predict_sequence_score(model,mutated)"
   ]
  },
  {
   "cell_type": "code",
   "execution_count": 64,
   "metadata": {},
   "outputs": [
    {
     "data": {
      "text/plain": [
       "18"
      ]
     },
     "execution_count": 64,
     "metadata": {},
     "output_type": "execute_result"
    }
   ],
   "source": [
    "mutated.count(\"AL\")"
   ]
  },
  {
   "cell_type": "code",
   "execution_count": 65,
   "metadata": {},
   "outputs": [
    {
     "data": {
      "text/plain": [
       "0"
      ]
     },
     "execution_count": 65,
     "metadata": {},
     "output_type": "execute_result"
    }
   ],
   "source": [
    "dogfishSeq.count(\"AL\")"
   ]
  },
  {
   "cell_type": "code",
   "execution_count": 66,
   "metadata": {},
   "outputs": [
    {
     "data": {
      "text/plain": [
       "<matplotlib.colorbar.Colorbar at 0x266fba134c0>"
      ]
     },
     "execution_count": 66,
     "metadata": {},
     "output_type": "execute_result"
    },
    {
     "data": {
      "image/png": "[encoded data removed]",
      "text/plain": [
       "<Figure size 432x288 with 2 Axes>"
      ]
     },
     "metadata": {
      "needs_background": "light"
     },
     "output_type": "display_data"
    }
   ],
   "source": [
    "import matplotlib.pyplot as pl\n",
    "\n",
    "fig, ax = pl.subplots(1,1)\n",
    "pl.rc('ytick', labelsize=12) \n",
    "pl.rc('xtick', labelsize=12) \n",
    "\n",
    "img = ax.imshow(seqpair_tokenize(mutated),cmap=\"Blues\")\n",
    "ax.set_xticks(range(0,20))\n",
    "ax.set_yticks(range(0,20))\n",
    "\n",
    "#io.imshow(difference)\n",
    "ax.set_xticklabels(aa)\n",
    "ax.set_yticklabels(aa)\n",
    "fig.colorbar(img)"
   ]
  },
  {
   "cell_type": "code",
   "execution_count": 67,
   "metadata": {},
   "outputs": [
    {
     "data": {
      "text/plain": [
       "<matplotlib.colorbar.Colorbar at 0x26681362fa0>"
      ]
     },
     "execution_count": 67,
     "metadata": {},
     "output_type": "execute_result"
    },
    {
     "data": {
      "image/png": "[encoded data removed]",
      "text/plain": [
       "<Figure size 432x288 with 2 Axes>"
      ]
     },
     "metadata": {
      "needs_background": "light"
     },
     "output_type": "display_data"
    }
   ],
   "source": [
    "\n",
    "fig, ax = pl.subplots(1,1)\n",
    "pl.rc('ytick', labelsize=12) \n",
    "pl.rc('xtick', labelsize=12) \n",
    "\n",
    "img = ax.imshow(seqpair_tokenize(dogfishSeq),cmap=\"Blues\")\n",
    "ax.set_xticks(range(0,20))\n",
    "ax.set_yticks(range(0,20))\n",
    "\n",
    "#io.imshow(difference)\n",
    "ax.set_xticklabels(aa)\n",
    "ax.set_yticklabels(aa)\n",
    "fig.colorbar(img)"
   ]
  },
  {
   "cell_type": "code",
   "execution_count": null,
   "metadata": {},
   "outputs": [],
   "source": []
  },
  {
   "cell_type": "code",
   "execution_count": null,
   "metadata": {},
   "outputs": [],
   "source": []
  }
 ],
 "metadata": {
  "kernelspec": {
   "display_name": "Python 3",
   "language": "python",
   "name": "python3"
  },
  "language_info": {
   "codemirror_mode": {
    "name": "ipython",
    "version": 3
   },
   "file_extension": ".py",
   "mimetype": "text/x-python",
   "name": "python",
   "nbconvert_exporter": "python",
   "pygments_lexer": "ipython3",
   "version": "3.8.5"
  }
 },
 "nbformat": 4,
 "nbformat_minor": 4
}
